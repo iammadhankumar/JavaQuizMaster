{
 "cells": [
  {
   "cell_type": "markdown",
   "metadata": {},
   "source": [
    "### 1. String Comparison"
   ]
  },
  {
   "cell_type": "code",
   "execution_count": 5,
   "metadata": {
    "vscode": {
     "languageId": "java"
    }
   },
   "outputs": [],
   "source": [
    "public class StringExamples {\n",
    "    public static void main(String[] args) {\n",
    "        String str1 = \"Java\";\n",
    "        String str2 = \"Java\";\n",
    "        String str3 = new String(\"Java\");\n",
    "\n",
    "        System.out.println(str1 == str2);   // A: true or false?\n",
    "        System.out.println(str1 == str3);   // B: true or false?\n",
    "        System.out.println(str1.equals(str3));  // C: true or false?\n",
    "    }\n",
    "}\n"
   ]
  }
 ],
 "metadata": {
  "kernelspec": {
   "display_name": "Java",
   "language": "java",
   "name": "java"
  },
  "language_info": {
   "codemirror_mode": "java",
   "file_extension": ".jshell",
   "mimetype": "text/x-java-source",
   "name": "Java",
   "pygments_lexer": "java",
   "version": "21.0.1+12-LTS-29"
  }
 },
 "nbformat": 4,
 "nbformat_minor": 2
}
